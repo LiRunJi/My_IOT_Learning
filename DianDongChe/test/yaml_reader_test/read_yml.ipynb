{
 "cells": [
  {
   "cell_type": "code",
   "execution_count": 8,
   "outputs": [],
   "source": [
    "import yaml\n"
   ],
   "metadata": {
    "collapsed": false,
    "pycharm": {
     "name": "#%%\n"
    }
   }
  },
  {
   "cell_type": "code",
   "execution_count": 9,
   "outputs": [
    {
     "data": {
      "text/plain": "{'db_type': 'mysql',\n 'db_driver': 'pymysql',\n 'db_url': 'sh-cynosdbmysql-grp-mumt0jjs.sql.tencentcdb.com:24403'}"
     },
     "execution_count": 9,
     "metadata": {},
     "output_type": "execute_result"
    }
   ],
   "source": [
    "with open('message.yml','r',encoding='utf-8')  as f:\n",
    "    r=yaml.load(f.read(),Loader=yaml.FullLoader)\n",
    "r"
   ],
   "metadata": {
    "collapsed": false,
    "pycharm": {
     "name": "#%%\n"
    }
   }
  },
  {
   "cell_type": "code",
   "execution_count": 10,
   "outputs": [
    {
     "data": {
      "text/plain": "dict"
     },
     "execution_count": 10,
     "metadata": {},
     "output_type": "execute_result"
    }
   ],
   "source": [
    "type(r)"
   ],
   "metadata": {
    "collapsed": false,
    "pycharm": {
     "name": "#%%\n"
    }
   }
  },
  {
   "cell_type": "code",
   "execution_count": 11,
   "outputs": [
    {
     "data": {
      "text/plain": "'mysql'"
     },
     "execution_count": 11,
     "metadata": {},
     "output_type": "execute_result"
    }
   ],
   "source": [
    "r['db_type']"
   ],
   "metadata": {
    "collapsed": false,
    "pycharm": {
     "name": "#%%\n"
    }
   }
  },
  {
   "cell_type": "code",
   "execution_count": 14,
   "outputs": [
    {
     "data": {
      "text/plain": "45091"
     },
     "execution_count": 14,
     "metadata": {},
     "output_type": "execute_result"
    }
   ],
   "source": [],
   "metadata": {
    "collapsed": false,
    "pycharm": {
     "name": "#%%\n"
    }
   }
  },
  {
   "cell_type": "code",
   "execution_count": 2,
   "outputs": [
    {
     "name": "stdout",
     "output_type": "stream",
     "text": [
      "2022-09-20 15:42:33.721692\n"
     ]
    }
   ],
   "source": [
    "import datetime\n",
    "print(datetime.datetime.now())"
   ],
   "metadata": {
    "collapsed": false,
    "pycharm": {
     "name": "#%%\n"
    }
   }
  },
  {
   "cell_type": "code",
   "execution_count": 5,
   "outputs": [],
   "source": [
    "import DianDongChe.schemas.schemas as schemas"
   ],
   "metadata": {
    "collapsed": false,
    "pycharm": {
     "name": "#%%\n"
    }
   }
  },
  {
   "cell_type": "code",
   "execution_count": 7,
   "outputs": [
    {
     "data": {
      "text/plain": "['Config',\n '__abstractmethods__',\n '__annotations__',\n '__class__',\n '__class_vars__',\n '__config__',\n '__custom_root_type__',\n '__delattr__',\n '__dict__',\n '__dir__',\n '__doc__',\n '__eq__',\n '__exclude_fields__',\n '__fields__',\n '__fields_set__',\n '__format__',\n '__ge__',\n '__get_validators__',\n '__getattribute__',\n '__getstate__',\n '__gt__',\n '__hash__',\n '__include_fields__',\n '__init__',\n '__init_subclass__',\n '__iter__',\n '__json_encoder__',\n '__le__',\n '__lt__',\n '__module__',\n '__ne__',\n '__new__',\n '__post_root_validators__',\n '__pre_root_validators__',\n '__pretty__',\n '__private_attributes__',\n '__reduce__',\n '__reduce_ex__',\n '__repr__',\n '__repr_args__',\n '__repr_name__',\n '__repr_str__',\n '__rich_repr__',\n '__schema_cache__',\n '__setattr__',\n '__setstate__',\n '__signature__',\n '__sizeof__',\n '__slots__',\n '__str__',\n '__subclasshook__',\n '__try_update_forward_refs__',\n '__validators__',\n '_abc_impl',\n '_calculate_keys',\n '_copy_and_set_values',\n '_decompose_class',\n '_enforce_dict_if_root',\n '_get_value',\n '_init_private_attributes',\n '_iter',\n 'construct',\n 'copy',\n 'dict',\n 'from_orm',\n 'json',\n 'parse_file',\n 'parse_obj',\n 'parse_raw',\n 'schema',\n 'schema_json',\n 'update_forward_refs',\n 'validate']"
     },
     "execution_count": 7,
     "metadata": {},
     "output_type": "execute_result"
    }
   ],
   "source": [
    "dir(schemas.sensors_data)"
   ],
   "metadata": {
    "collapsed": false,
    "pycharm": {
     "name": "#%%\n"
    }
   }
  },
  {
   "cell_type": "code",
   "execution_count": 8,
   "outputs": [
    {
     "data": {
      "text/plain": "<staticmethod(<class 'DianDongChe.schemas.schemas.sensors_data'>)>"
     },
     "execution_count": 8,
     "metadata": {},
     "output_type": "execute_result"
    }
   ],
   "source": [
    "staticmethod(schemas.sensors_data)"
   ],
   "metadata": {
    "collapsed": false,
    "pycharm": {
     "name": "#%%\n"
    }
   }
  },
  {
   "cell_type": "code",
   "execution_count": 9,
   "outputs": [],
   "source": [
    "import re\n",
    "def orm_dict_to_obj(dict: dict | str, obj_class):\n",
    "    if type(dict) == str:\n",
    "        dict = eval(dict)\n",
    "\n",
    "    obj = obj_class()\n",
    "    s = obj.__str__()\n",
    "    print(s)\n",
    "    x = re.findall(r'[(](.*?)[)]', s)\n",
    "    x = x[0].split(',')\n",
    "    print(x)\n",
    "    # attrs = []\n",
    "    # for attribute in x:\n",
    "    #     a = attribute.split('=')[0]\n",
    "    #     attrs.append(a)\n",
    "    #\n",
    "    # for attr in attrs:\n",
    "    #     setattr(obj, attr, dict[attr])\n",
    "    # return obj"
   ],
   "metadata": {
    "collapsed": false,
    "pycharm": {
     "name": "#%%\n"
    }
   }
  },
  {
   "cell_type": "code",
   "execution_count": 11,
   "outputs": [
    {
     "ename": "ValidationError",
     "evalue": "6 validation errors for sensors_data\nid\n  field required (type=value_error.missing)\nsensor_id\n  field required (type=value_error.missing)\nname\n  field required (type=value_error.missing)\ntype\n  field required (type=value_error.missing)\nvalue\n  field required (type=value_error.missing)\ntime\n  field required (type=value_error.missing)",
     "output_type": "error",
     "traceback": [
      "\u001B[1;31m---------------------------------------------------------------------------\u001B[0m",
      "\u001B[1;31mValidationError\u001B[0m                           Traceback (most recent call last)",
      "Input \u001B[1;32mIn [11]\u001B[0m, in \u001B[0;36m<cell line: 1>\u001B[1;34m()\u001B[0m\n\u001B[1;32m----> 1\u001B[0m \u001B[43morm_dict_to_obj\u001B[49m\u001B[43m(\u001B[49m\u001B[38;5;124;43m\"\u001B[39;49m\u001B[38;5;124;43m1\u001B[39;49m\u001B[38;5;124;43m\"\u001B[39;49m\u001B[43m,\u001B[49m\u001B[43mschemas\u001B[49m\u001B[38;5;241;43m.\u001B[39;49m\u001B[43msensors_data\u001B[49m\u001B[43m)\u001B[49m\n",
      "Input \u001B[1;32mIn [9]\u001B[0m, in \u001B[0;36morm_dict_to_obj\u001B[1;34m(dict, obj_class)\u001B[0m\n\u001B[0;32m      3\u001B[0m \u001B[38;5;28;01mif\u001B[39;00m \u001B[38;5;28mtype\u001B[39m(\u001B[38;5;28mdict\u001B[39m) \u001B[38;5;241m==\u001B[39m \u001B[38;5;28mstr\u001B[39m:\n\u001B[0;32m      4\u001B[0m     \u001B[38;5;28mdict\u001B[39m \u001B[38;5;241m=\u001B[39m \u001B[38;5;28meval\u001B[39m(\u001B[38;5;28mdict\u001B[39m)\n\u001B[1;32m----> 6\u001B[0m obj \u001B[38;5;241m=\u001B[39m \u001B[43mobj_class\u001B[49m\u001B[43m(\u001B[49m\u001B[43m)\u001B[49m\n\u001B[0;32m      7\u001B[0m s \u001B[38;5;241m=\u001B[39m obj\u001B[38;5;241m.\u001B[39m\u001B[38;5;21m__str__\u001B[39m()\n\u001B[0;32m      8\u001B[0m \u001B[38;5;28mprint\u001B[39m(s)\n",
      "File \u001B[1;32m~\\AppData\\Local\\Programs\\Python\\Python310\\lib\\site-packages\\pydantic\\main.py:342\u001B[0m, in \u001B[0;36mpydantic.main.BaseModel.__init__\u001B[1;34m()\u001B[0m\n",
      "\u001B[1;31mValidationError\u001B[0m: 6 validation errors for sensors_data\nid\n  field required (type=value_error.missing)\nsensor_id\n  field required (type=value_error.missing)\nname\n  field required (type=value_error.missing)\ntype\n  field required (type=value_error.missing)\nvalue\n  field required (type=value_error.missing)\ntime\n  field required (type=value_error.missing)"
     ]
    }
   ],
   "source": [
    "orm_dict_to_obj(\"1\",schemas.sensors_data)"
   ],
   "metadata": {
    "collapsed": false,
    "pycharm": {
     "name": "#%%\n"
    }
   }
  },
  {
   "cell_type": "code",
   "execution_count": 13,
   "outputs": [
    {
     "ename": "ValidationError",
     "evalue": "6 validation errors for sensors_data\nid\n  field required (type=value_error.missing)\nsensor_id\n  field required (type=value_error.missing)\nname\n  field required (type=value_error.missing)\ntype\n  field required (type=value_error.missing)\nvalue\n  field required (type=value_error.missing)\ntime\n  field required (type=value_error.missing)",
     "output_type": "error",
     "traceback": [
      "\u001B[1;31m---------------------------------------------------------------------------\u001B[0m",
      "\u001B[1;31mValidationError\u001B[0m                           Traceback (most recent call last)",
      "Input \u001B[1;32mIn [13]\u001B[0m, in \u001B[0;36m<cell line: 1>\u001B[1;34m()\u001B[0m\n\u001B[1;32m----> 1\u001B[0m \u001B[43mschemas\u001B[49m\u001B[38;5;241;43m.\u001B[39;49m\u001B[43msensors_data\u001B[49m\u001B[43m(\u001B[49m\u001B[43m)\u001B[49m\u001B[38;5;241m.\u001B[39m\u001B[38;5;21m__str__\u001B[39m()\n",
      "File \u001B[1;32m~\\AppData\\Local\\Programs\\Python\\Python310\\lib\\site-packages\\pydantic\\main.py:342\u001B[0m, in \u001B[0;36mpydantic.main.BaseModel.__init__\u001B[1;34m()\u001B[0m\n",
      "\u001B[1;31mValidationError\u001B[0m: 6 validation errors for sensors_data\nid\n  field required (type=value_error.missing)\nsensor_id\n  field required (type=value_error.missing)\nname\n  field required (type=value_error.missing)\ntype\n  field required (type=value_error.missing)\nvalue\n  field required (type=value_error.missing)\ntime\n  field required (type=value_error.missing)"
     ]
    }
   ],
   "source": [
    "# schemas.sensors_data().__str__()"
   ],
   "metadata": {
    "collapsed": false,
    "pycharm": {
     "name": "#%%\n"
    }
   }
  },
  {
   "cell_type": "code",
   "execution_count": 14,
   "outputs": [],
   "source": [
    "import requests"
   ],
   "metadata": {
    "collapsed": false,
    "pycharm": {
     "name": "#%%\n"
    }
   }
  },
  {
   "cell_type": "code",
   "execution_count": 28,
   "outputs": [
    {
     "data": {
      "text/plain": "200"
     },
     "execution_count": 28,
     "metadata": {},
     "output_type": "execute_result"
    }
   ],
   "source": [
    "# proxies = { \"http\": None, \"https\": None}\n",
    "r=requests.get('http://127.0.0.1:8000/docs',proxies=proxies)\n",
    "r.status_code"
   ],
   "metadata": {
    "collapsed": false,
    "pycharm": {
     "name": "#%%\n"
    }
   }
  },
  {
   "cell_type": "code",
   "execution_count": 25,
   "outputs": [
    {
     "data": {
      "text/plain": "<Response [200]>"
     },
     "execution_count": 25,
     "metadata": {},
     "output_type": "execute_result"
    }
   ],
   "source": [
    "r"
   ],
   "metadata": {
    "collapsed": false,
    "pycharm": {
     "name": "#%%\n"
    }
   }
  },
  {
   "cell_type": "code",
   "execution_count": 27,
   "outputs": [
    {
     "data": {
      "text/plain": "200"
     },
     "execution_count": 27,
     "metadata": {},
     "output_type": "execute_result"
    }
   ],
   "source": [
    "r.status_code"
   ],
   "metadata": {
    "collapsed": false,
    "pycharm": {
     "name": "#%%\n"
    }
   }
  },
  {
   "cell_type": "code",
   "execution_count": null,
   "outputs": [],
   "source": [],
   "metadata": {
    "collapsed": false,
    "pycharm": {
     "name": "#%%\n"
    }
   }
  }
 ],
 "metadata": {
  "kernelspec": {
   "display_name": "Python 3",
   "language": "python",
   "name": "python3"
  },
  "language_info": {
   "codemirror_mode": {
    "name": "ipython",
    "version": 2
   },
   "file_extension": ".py",
   "mimetype": "text/x-python",
   "name": "python",
   "nbconvert_exporter": "python",
   "pygments_lexer": "ipython2",
   "version": "2.7.6"
  }
 },
 "nbformat": 4,
 "nbformat_minor": 0
}